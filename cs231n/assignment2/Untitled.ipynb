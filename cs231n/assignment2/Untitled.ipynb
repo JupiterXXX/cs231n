{
 "cells": [
  {
   "cell_type": "code",
   "execution_count": 3,
   "metadata": {},
   "outputs": [
    {
     "data": {
      "text/plain": [
       "array([[-1.34018239, -1.99881474],\n",
       "       [-2.32697996,  0.79416232],\n",
       "       [-1.71416136,  1.07572461],\n",
       "       [-1.44294121, -0.69234149],\n",
       "       [-0.97182038, -0.86503872],\n",
       "       [-0.22744135,  0.50367357],\n",
       "       [ 0.66517262, -0.65364784],\n",
       "       [ 0.81257086,  0.88567243]])"
      ]
     },
     "execution_count": 3,
     "metadata": {},
     "output_type": "execute_result"
    }
   ],
   "source": [
    "import numpy as np\n",
    "np.random.randn(2*2*2, 2)"
   ]
  },
  {
   "cell_type": "code",
   "execution_count": null,
   "metadata": {
    "collapsed": true
   },
   "outputs": [],
   "source": []
  }
 ],
 "metadata": {
  "kernelspec": {
   "display_name": "Python 3",
   "language": "python",
   "name": "python3"
  },
  "language_info": {
   "codemirror_mode": {
    "name": "ipython",
    "version": 3
   },
   "file_extension": ".py",
   "mimetype": "text/x-python",
   "name": "python",
   "nbconvert_exporter": "python",
   "pygments_lexer": "ipython3",
   "version": "3.6.0"
  }
 },
 "nbformat": 4,
 "nbformat_minor": 2
}
